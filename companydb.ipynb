{
 "cells": [
  {
   "cell_type": "code",
   "execution_count": 3,
   "metadata": {},
   "outputs": [],
   "source": [
    "# After finding out databases make a new connection to the server but this time to that particular database\n",
    "import mysql.connector\n",
    "ctsdb = mysql.connector.connect(\n",
    "    host = 'localhost',\n",
    "    port = 'write the port number on which your mysql server is running',\n",
    "    user = 'your username',\n",
    "    password = 'your server password',\n",
    "    database = 'your database name'\n",
    ")\n",
    "# making cursor to use a database called girrafe\n",
    "curd = ctsdb.cursor()"
   ]
  },
  {
   "attachments": {},
   "cell_type": "markdown",
   "metadata": {},
   "source": [
    "## Form here working in the database called girrafe"
   ]
  },
  {
   "cell_type": "code",
   "execution_count": 1,
   "metadata": {},
   "outputs": [],
   "source": [
    "query = '''\n",
    "CREATE TABLE employee(\n",
    "emp_id INT PRIMARY KEY,\n",
    "first_name VARCHAR(16),\n",
    "last_name VARCHAR(16),\n",
    "birth_day DATE,\n",
    "sex VARCHAR(1),\n",
    "salary INT,\n",
    "super_id INT,\n",
    "branch_id INT\n",
    ");\n",
    "'''"
   ]
  },
  {
   "cell_type": "code",
   "execution_count": 4,
   "metadata": {},
   "outputs": [],
   "source": [
    "curd.execute(query)"
   ]
  },
  {
   "cell_type": "code",
   "execution_count": 5,
   "metadata": {},
   "outputs": [],
   "source": [
    "create_branch_table = '''\n",
    "CREATE TABLE branch(\n",
    "branch_id INT PRIMARY KEY,\n",
    "branch_name VARCHAR(20),\n",
    "mgr_id INT,\n",
    "mgr_start_date DATE,\n",
    "FOREIGN KEY(mgr_id) REFERENCES employee(emp_id) ON DELETE SET NULL\n",
    ");\n",
    "'''\n",
    "curd.execute(create_branch_table)"
   ]
  },
  {
   "cell_type": "code",
   "execution_count": 6,
   "metadata": {},
   "outputs": [],
   "source": [
    "branchid_as_forkey_employee = '''\n",
    "ALTER TABLE employee\n",
    "ADD FOREIGN KEY(branch_id)\n",
    "REFERENCES branch(branch_id)\n",
    "ON DELETE SET NULL;\n",
    "'''\n",
    "curd.execute(branchid_as_forkey_employee)"
   ]
  },
  {
   "cell_type": "code",
   "execution_count": 7,
   "metadata": {},
   "outputs": [],
   "source": [
    "empid_as_forkey_employee = '''\n",
    "ALTER TABLE employee\n",
    "ADD FOREIGN KEY(super_id)\n",
    "REFERENCES employee(emp_id)\n",
    "ON DELETE SET NULL;\n",
    "'''\n",
    "curd.execute(empid_as_forkey_employee)"
   ]
  },
  {
   "cell_type": "code",
   "execution_count": 8,
   "metadata": {},
   "outputs": [],
   "source": [
    "create_client_table = '''\n",
    "CREATE TABLE client(\n",
    "client_id INT PRIMARY KEY,\n",
    "client_name VARCHAR(20),\n",
    "branch_id INT,\n",
    "FOREIGN KEY(branch_id) REFERENCES branch(branch_id) ON DELETE SET NULL\n",
    ");\n",
    "'''\n",
    "curd.execute(create_client_table)"
   ]
  },
  {
   "cell_type": "code",
   "execution_count": 9,
   "metadata": {},
   "outputs": [],
   "source": [
    "create_workswith_table = '''\n",
    "CREATE TABLE works_with(\n",
    "emp_id INT,\n",
    "client_id INT,\n",
    "total_sales INT,\n",
    "PRIMARY KEY(emp_id,client_id),\n",
    "FOREIGN KEY(emp_id) REFERENCES employee(emp_id) ON DELETE CASCADE,\n",
    "FOREIGN KEY(client_id) REFERENCES client(client_id) ON DELETE CASCADE\n",
    ");\n",
    "'''\n",
    "curd.execute(create_workswith_table)"
   ]
  },
  {
   "cell_type": "code",
   "execution_count": 10,
   "metadata": {},
   "outputs": [],
   "source": [
    "create_branchsupplier_table = '''\n",
    "CREATE TABLE branch_supplier(\n",
    "branch_id INT,\n",
    "supplier_name VARCHAR(20),\n",
    "supply_type VARCHAR(20),\n",
    "PRIMARY KEY(branch_id,supplier_name),\n",
    "FOREIGN KEY(branch_id) REFERENCES branch(branch_id) ON DELETE CASCADE\n",
    ");\n",
    "'''\n",
    "curd.execute(create_branchsupplier_table)"
   ]
  },
  {
   "attachments": {},
   "cell_type": "markdown",
   "metadata": {},
   "source": [
    "## Filling Corporate branch"
   ]
  },
  {
   "cell_type": "code",
   "execution_count": 11,
   "metadata": {},
   "outputs": [],
   "source": [
    "curd.execute('''\n",
    "INSERT INTO employee VALUES(100,'David','Wallace','1967-11-17','M',250000,NULL,NULL);\n",
    "''')"
   ]
  },
  {
   "cell_type": "code",
   "execution_count": 12,
   "metadata": {},
   "outputs": [],
   "source": [
    "curd.execute('''\n",
    "INSERT INTO branch VALUES(1,'Corporate',100,'2006-02-09');\n",
    "''')"
   ]
  },
  {
   "cell_type": "code",
   "execution_count": 13,
   "metadata": {},
   "outputs": [],
   "source": [
    "curd.execute('''\n",
    "UPDATE employee\n",
    "SET branch_id = 1\n",
    "WHERE emp_id = 100;\n",
    "''')"
   ]
  },
  {
   "cell_type": "code",
   "execution_count": 14,
   "metadata": {},
   "outputs": [],
   "source": [
    "curd.execute('''\n",
    "INSERT INTO employee VALUES(101,'Jan','Levison','1961-05-11','F',110000,100,1);\n",
    "''')"
   ]
  },
  {
   "attachments": {},
   "cell_type": "markdown",
   "metadata": {},
   "source": [
    "## Filling Scranton branch"
   ]
  },
  {
   "cell_type": "code",
   "execution_count": 15,
   "metadata": {},
   "outputs": [],
   "source": [
    "curd.execute('''\n",
    "INSERT INTO employee VALUES(102,'Michael','Scott','1964-03-15','M',75000,100,NULL);\n",
    "''')"
   ]
  },
  {
   "cell_type": "code",
   "execution_count": 16,
   "metadata": {},
   "outputs": [],
   "source": [
    "curd.execute('''\n",
    "INSERT INTO branch VALUES(2,'Scranton',102,'1992-04-06');\n",
    "''')"
   ]
  },
  {
   "cell_type": "code",
   "execution_count": 17,
   "metadata": {},
   "outputs": [],
   "source": [
    "curd.execute('''\n",
    "UPDATE employee SET branch_id = 2 WHERE emp_id = 102;\n",
    "''')"
   ]
  },
  {
   "cell_type": "code",
   "execution_count": 18,
   "metadata": {},
   "outputs": [],
   "source": [
    "curd.execute('''\n",
    "INSERT INTO employee VALUES(103,'Angela','Martin','1971-06-25','F',63000,102,2);\n",
    "''')"
   ]
  },
  {
   "cell_type": "code",
   "execution_count": 19,
   "metadata": {},
   "outputs": [],
   "source": [
    "curd.execute('''\n",
    "INSERT INTO employee VALUES(104,'Kelly','Kapoor','1980-02-05','F',55000,102,2);\n",
    "''')"
   ]
  },
  {
   "cell_type": "code",
   "execution_count": 20,
   "metadata": {},
   "outputs": [],
   "source": [
    "curd.execute('''\n",
    "INSERT INTO employee VALUES(105,'Stanley','Hudson','1958-02-19','M',69000,102,2);\n",
    "''')"
   ]
  },
  {
   "attachments": {},
   "cell_type": "markdown",
   "metadata": {},
   "source": [
    "## Filling Stamford branch"
   ]
  },
  {
   "cell_type": "code",
   "execution_count": 21,
   "metadata": {},
   "outputs": [],
   "source": [
    "curd.execute('''\n",
    "INSERT INTO employee VALUES(106,'Josh','Porter','1969-09-05','M',78000,100,NULL);\n",
    "''')\n",
    "curd.execute('''\n",
    "INSERT INTO branch VALUES(3,'Stamford',106,'1998-02-13');\n",
    "''')\n",
    "curd.execute('''\n",
    "UPDATE employee SET branch_id = 3 WHERE emp_id = 106;\n",
    "''')\n",
    "curd.execute('''\n",
    "INSERT INTO employee VALUES(107,'Andy','Bernard','1973-07-22','M',65000,106,3);\n",
    "''')\n",
    "curd.execute('''\n",
    "INSERT INTO employee VALUES(108,'Jim','Halpert','1978-10-01','M',71000,106,3);\n",
    "''')"
   ]
  },
  {
   "attachments": {},
   "cell_type": "markdown",
   "metadata": {},
   "source": [
    "## Filling branch_supplier table"
   ]
  },
  {
   "cell_type": "code",
   "execution_count": 24,
   "metadata": {},
   "outputs": [],
   "source": [
    "curd.execute('''\n",
    "INSERT INTO branch_supplier VALUES(2,'Hammer Mill','Paper');\n",
    "''')\n",
    "curd.execute('''\n",
    "INSERT INTO branch_supplier VALUES(2,'Uni-ball','Writing Utensils');\n",
    "''')\n",
    "curd.execute('''\n",
    "INSERT INTO branch_supplier VALUES(3,'Patriot Paper','Paper');\n",
    "''')\n",
    "curd.execute('''\n",
    "INSERT INTO branch_supplier VALUES(2,'J.T. Forms & Labels','Custom Forms');\n",
    "''')\n",
    "curd.execute('''\n",
    "INSERT INTO branch_supplier VALUES(3,'Uni-ball','Writing Utensils');\n",
    "''')\n",
    "curd.execute('''\n",
    "INSERT INTO branch_supplier VALUES(3,'Hammer Mill','Paper');\n",
    "''')\n",
    "curd.execute('''\n",
    "INSERT INTO branch_supplier VALUES(3,'Stamford Lables','Custom Forms');\n",
    "''')"
   ]
  },
  {
   "attachments": {},
   "cell_type": "markdown",
   "metadata": {},
   "source": [
    "## Filling client table"
   ]
  },
  {
   "cell_type": "code",
   "execution_count": 25,
   "metadata": {},
   "outputs": [],
   "source": [
    "curd.execute('''\n",
    "INSERT INTO client VALUES(400,'Dunmore Highschool',2);\n",
    "''')\n",
    "curd.execute('''\n",
    "INSERT INTO client VALUES(401,'Lackawana Country',2);\n",
    "''')\n",
    "curd.execute('''\n",
    "INSERT INTO client VALUES(402,'FedEx',3);\n",
    "''')\n",
    "curd.execute('''\n",
    "INSERT INTO client VALUES(403,'John Daly Law, LLC',3);\n",
    "''')\n",
    "curd.execute('''\n",
    "INSERT INTO client VALUES(404,'Scranton Whitepages',2);\n",
    "''')\n",
    "curd.execute('''\n",
    "INSERT INTO client VALUES(405,'Times Newspaper',3);\n",
    "''')\n",
    "curd.execute('''\n",
    "INSERT INTO client VALUES(406,'FedEx',2);\n",
    "''')"
   ]
  },
  {
   "attachments": {},
   "cell_type": "markdown",
   "metadata": {},
   "source": [
    "## Filling works_with table"
   ]
  },
  {
   "cell_type": "code",
   "execution_count": 26,
   "metadata": {},
   "outputs": [],
   "source": [
    "curd.execute('''\n",
    "INSERT INTO works_with VALUES(105,400,55000);\n",
    "''')\n",
    "curd.execute('''\n",
    "INSERT INTO works_with VALUES(102,401,267000);\n",
    "''')\n",
    "curd.execute('''\n",
    "INSERT INTO works_with VALUES(108,402,22500);\n",
    "''')\n",
    "curd.execute('''\n",
    "INSERT INTO works_with VALUES(107,403,5000);\n",
    "''')\n",
    "curd.execute('''\n",
    "INSERT INTO works_with VALUES(108,403,12000);\n",
    "''')\n",
    "curd.execute('''\n",
    "INSERT INTO works_with VALUES(105,404,33000);\n",
    "''')\n",
    "curd.execute('''\n",
    "INSERT INTO works_with VALUES(107,405,26000);\n",
    "''')\n",
    "curd.execute('''\n",
    "INSERT INTO works_with VALUES(102,406,15000);\n",
    "''')\n",
    "curd.execute('''\n",
    "INSERT INTO works_with VALUES(105,406,130000);\n",
    "''')"
   ]
  }
 ],
 "metadata": {
  "kernelspec": {
   "display_name": "Python 3",
   "language": "python",
   "name": "python3"
  },
  "language_info": {
   "codemirror_mode": {
    "name": "ipython",
    "version": 3
   },
   "file_extension": ".py",
   "mimetype": "text/x-python",
   "name": "python",
   "nbconvert_exporter": "python",
   "pygments_lexer": "ipython3",
   "version": "3.10.2"
  },
  "orig_nbformat": 4
 },
 "nbformat": 4,
 "nbformat_minor": 2
}
